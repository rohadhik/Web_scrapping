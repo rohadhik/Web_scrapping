{
 "cells": [
  {
   "cell_type": "code",
   "execution_count": 1,
   "metadata": {
    "collapsed": false,
    "deletable": true,
    "editable": true
   },
   "outputs": [],
   "source": [
    "import requests\n",
    "import random\n",
    "from bs4 import BeautifulSoup\n",
    "\n",
    "url = \"http://stats.espncricinfo.com/indian-premier-league-2015/engine/records/team/match_results.html?id=11001;type=tournament\"\n",
    "headers = {'User-Agent': 'Mozilla/5.0 (compatible; Googlebot/2.1; +http://www.google.com/bot.html)'}\n",
    "proxies = [\"118.151.209.114\",\"124.124.1.178\"]\n",
    "res = requests.get(url, headers=headers, proxies=random.choice(proxies))\n",
    "html_string = res.content"
   ]
  },
  {
   "cell_type": "code",
   "execution_count": 16,
   "metadata": {
    "collapsed": false,
    "deletable": true,
    "editable": true,
    "scrolled": true
   },
   "outputs": [
    {
     "name": "stdout",
     "output_type": "stream",
     "text": [
      "['Team 1', 'Team 2', 'Winner', 'Margin', 'Ground', 'Match Date', 'Scorecard']\n",
      "['Mum Indians', 'Supergiants', 'Supergiants', '9 wickets', 'Mumbai', 'Apr 9, 2016', 'http://stats.espncricinfo.com/indian-premier-league-2015/engine/match/980901.html']\n",
      "['KKR', 'Daredevils', 'KKR', '9 wickets', 'Kolkata', 'Apr 10, 2016', 'http://stats.espncricinfo.com/indian-premier-league-2015/engine/match/980903.html']\n",
      "['Kings XI', 'Guj Lions', 'Guj Lions', '5 wickets', 'Mohali', 'Apr 11, 2016', 'http://stats.espncricinfo.com/indian-premier-league-2015/engine/match/980905.html']\n",
      "['RCB', 'Sunrisers', 'RCB', '45 runs', 'Bengaluru', 'Apr 12, 2016', 'http://stats.espncricinfo.com/indian-premier-league-2015/engine/match/980907.html']\n",
      "['KKR', 'Mum Indians', 'Mum Indians', '6 wickets', 'Kolkata', 'Apr 13, 2016', 'http://stats.espncricinfo.com/indian-premier-league-2015/engine/match/980909.html']\n",
      "['Guj Lions', 'Supergiants', 'Guj Lions', '7 wickets', 'Rajkot', 'Apr 14, 2016', 'http://stats.espncricinfo.com/indian-premier-league-2015/engine/match/980911.html']\n",
      "['Daredevils', 'Kings XI', 'Daredevils', '8 wickets', 'Delhi', 'Apr 15, 2016', 'http://stats.espncricinfo.com/indian-premier-league-2015/engine/match/980913.html']\n",
      "['Sunrisers', 'KKR', 'KKR', '8 wickets', 'Hyderabad (Deccan)', 'Apr 16, 2016', 'http://stats.espncricinfo.com/indian-premier-league-2015/engine/match/980915.html']\n",
      "['Mum Indians', 'Guj Lions', 'Guj Lions', '3 wickets', 'Mumbai', 'Apr 16, 2016', 'http://stats.espncricinfo.com/indian-premier-league-2015/engine/match/980917.html']\n",
      "['Kings XI', 'Supergiants', 'Kings XI', '6 wickets', 'Mohali', 'Apr 17, 2016', 'http://stats.espncricinfo.com/indian-premier-league-2015/engine/match/980919.html']\n",
      "['RCB', 'Daredevils', 'Daredevils', '7 wickets', 'Bengaluru', 'Apr 17, 2016', 'http://stats.espncricinfo.com/indian-premier-league-2015/engine/match/980921.html']\n",
      "['Sunrisers', 'Mum Indians', 'Sunrisers', '7 wickets', 'Hyderabad (Deccan)', 'Apr 18, 2016', 'http://stats.espncricinfo.com/indian-premier-league-2015/engine/match/980923.html']\n",
      "['Kings XI', 'KKR', 'KKR', '6 wickets', 'Mohali', 'Apr 19, 2016', 'http://stats.espncricinfo.com/indian-premier-league-2015/engine/match/980925.html']\n",
      "['Mum Indians', 'RCB', 'Mum Indians', '6 wickets', 'Mumbai', 'Apr 20, 2016', 'http://stats.espncricinfo.com/indian-premier-league-2015/engine/match/980927.html']\n",
      "['Guj Lions', 'Sunrisers', 'Sunrisers', '10 wickets', 'Rajkot', 'Apr 21, 2016', 'http://stats.espncricinfo.com/indian-premier-league-2015/engine/match/980929.html']\n",
      "['Supergiants', 'RCB', 'RCB', '13 runs', 'Pune', 'Apr 22, 2016', 'http://stats.espncricinfo.com/indian-premier-league-2015/engine/match/980931.html']\n",
      "['Daredevils', 'Mum Indians', 'Daredevils', '10 runs', 'Delhi', 'Apr 23, 2016', 'http://stats.espncricinfo.com/indian-premier-league-2015/engine/match/980933.html']\n",
      "['Sunrisers', 'Kings XI', 'Sunrisers', '5 wickets', 'Hyderabad (Deccan)', 'Apr 23, 2016', 'http://stats.espncricinfo.com/indian-premier-league-2015/engine/match/980935.html']\n",
      "['Guj Lions', 'RCB', 'Guj Lions', '6 wickets', 'Rajkot', 'Apr 24, 2016', 'http://stats.espncricinfo.com/indian-premier-league-2015/engine/match/980937.html']\n",
      "['Supergiants', 'KKR', 'KKR', '2 wickets', 'Pune', 'Apr 24, 2016', 'http://stats.espncricinfo.com/indian-premier-league-2015/engine/match/980939.html']\n",
      "['Kings XI', 'Mum Indians', 'Mum Indians', '25 runs', 'Mohali', 'Apr 25, 2016', 'http://stats.espncricinfo.com/indian-premier-league-2015/engine/match/980941.html']\n",
      "['Sunrisers', 'Supergiants', 'Supergiants', '34 runs', 'Hyderabad (Deccan)', 'Apr 26, 2016', 'http://stats.espncricinfo.com/indian-premier-league-2015/engine/match/980943.html']\n",
      "['Daredevils', 'Guj Lions', 'Guj Lions', '1 run', 'Delhi', 'Apr 27, 2016', 'http://stats.espncricinfo.com/indian-premier-league-2015/engine/match/980945.html']\n",
      "['Mum Indians', 'KKR', 'Mum Indians', '6 wickets', 'Mumbai', 'Apr 28, 2016', 'http://stats.espncricinfo.com/indian-premier-league-2015/engine/match/980947.html']\n",
      "['Supergiants', 'Guj Lions', 'Guj Lions', '3 wickets', 'Pune', 'Apr 29, 2016', 'http://stats.espncricinfo.com/indian-premier-league-2015/engine/match/980949.html']\n",
      "['Daredevils', 'KKR', 'Daredevils', '27 runs', 'Delhi', 'Apr 30, 2016', 'http://stats.espncricinfo.com/indian-premier-league-2015/engine/match/980951.html']\n",
      "['Sunrisers', 'RCB', 'Sunrisers', '15 runs', 'Hyderabad (Deccan)', 'Apr 30, 2016', 'http://stats.espncricinfo.com/indian-premier-league-2015/engine/match/980953.html']\n",
      "['Guj Lions', 'Kings XI', 'Kings XI', '23 runs', 'Rajkot', 'May 1, 2016', 'http://stats.espncricinfo.com/indian-premier-league-2015/engine/match/980955.html']\n",
      "['Supergiants', 'Mum Indians', 'Mum Indians', '8 wickets', 'Pune', 'May 1, 2016', 'http://stats.espncricinfo.com/indian-premier-league-2015/engine/match/980957.html']\n",
      "['RCB', 'KKR', 'KKR', '5 wickets', 'Bengaluru', 'May 2, 2016', 'http://stats.espncricinfo.com/indian-premier-league-2015/engine/match/980959.html']\n",
      "['Guj Lions', 'Daredevils', 'Daredevils', '8 wickets', 'Rajkot', 'May 3, 2016', 'http://stats.espncricinfo.com/indian-premier-league-2015/engine/match/980961.html']\n",
      "['KKR', 'Kings XI', 'KKR', '7 runs', 'Kolkata', 'May 4, 2016', 'http://stats.espncricinfo.com/indian-premier-league-2015/engine/match/980963.html']\n",
      "['Daredevils', 'Supergiants', 'Supergiants', '7 wickets', 'Delhi', 'May 5, 2016', 'http://stats.espncricinfo.com/indian-premier-league-2015/engine/match/980965.html']\n",
      "['Sunrisers', 'Guj Lions', 'Sunrisers', '5 wickets', 'Hyderabad (Deccan)', 'May 6, 2016', 'http://stats.espncricinfo.com/indian-premier-league-2015/engine/match/980967.html']\n",
      "['RCB', 'Supergiants', 'RCB', '7 wickets', 'Bengaluru', 'May 7, 2016', 'http://stats.espncricinfo.com/indian-premier-league-2015/engine/match/980969.html']\n",
      "['Kings XI', 'Daredevils', 'Kings XI', '9 runs', 'Mohali', 'May 7, 2016', 'http://stats.espncricinfo.com/indian-premier-league-2015/engine/match/980971.html']\n",
      "['Mum Indians', 'Sunrisers', 'Sunrisers', '85 runs', 'Visakhapatnam', 'May 8, 2016', 'http://stats.espncricinfo.com/indian-premier-league-2015/engine/match/980973.html']\n",
      "['KKR', 'Guj Lions', 'Guj Lions', '5 wickets', 'Kolkata', 'May 8, 2016', 'http://stats.espncricinfo.com/indian-premier-league-2015/engine/match/980975.html']\n",
      "['Kings XI', 'RCB', 'RCB', '1 run', 'Mohali', 'May 9, 2016', 'http://stats.espncricinfo.com/indian-premier-league-2015/engine/match/980977.html']\n",
      "['Supergiants', 'Sunrisers', 'Sunrisers', '4 runs', 'Visakhapatnam', 'May 10, 2016', 'http://stats.espncricinfo.com/indian-premier-league-2015/engine/match/980979.html']\n",
      "['RCB', 'Mum Indians', 'Mum Indians', '6 wickets', 'Bengaluru', 'May 11, 2016', 'http://stats.espncricinfo.com/indian-premier-league-2015/engine/match/980981.html']\n",
      "['Sunrisers', 'Daredevils', 'Daredevils', '7 wickets', 'Hyderabad (Deccan)', 'May 12, 2016', 'http://stats.espncricinfo.com/indian-premier-league-2015/engine/match/980983.html']\n",
      "['Mum Indians', 'Kings XI', 'Kings XI', '7 wickets', 'Visakhapatnam', 'May 13, 2016', 'http://stats.espncricinfo.com/indian-premier-league-2015/engine/match/980985.html']\n",
      "['RCB', 'Guj Lions', 'RCB', '144 runs', 'Bengaluru', 'May 14, 2016', 'http://stats.espncricinfo.com/indian-premier-league-2015/engine/match/980987.html']\n",
      "['KKR', 'Supergiants', 'KKR', '8 wickets', 'Kolkata', 'May 14, 2016', 'http://stats.espncricinfo.com/indian-premier-league-2015/engine/match/980989.html']\n",
      "['Kings XI', 'Sunrisers', 'Sunrisers', '7 wickets', 'Mohali', 'May 15, 2016', 'http://stats.espncricinfo.com/indian-premier-league-2015/engine/match/980991.html']\n",
      "['Mum Indians', 'Daredevils', 'Mum Indians', '80 runs', 'Visakhapatnam', 'May 15, 2016', 'http://stats.espncricinfo.com/indian-premier-league-2015/engine/match/980993.html']\n",
      "['KKR', 'RCB', 'RCB', '9 wickets', 'Kolkata', 'May 16, 2016', 'http://stats.espncricinfo.com/indian-premier-league-2015/engine/match/980995.html']\n",
      "['Supergiants', 'Daredevils', 'Supergiants', '19 runs', 'Visakhapatnam', 'May 17, 2016', 'http://stats.espncricinfo.com/indian-premier-league-2015/engine/match/980997.html']\n",
      "['RCB', 'Kings XI', 'RCB', '82 runs', 'Bengaluru', 'May 18, 2016', 'http://stats.espncricinfo.com/indian-premier-league-2015/engine/match/980999.html']\n",
      "['Guj Lions', 'KKR', 'Guj Lions', '6 wickets', 'Kanpur', 'May 19, 2016', 'http://stats.espncricinfo.com/indian-premier-league-2015/engine/match/981001.html']\n",
      "['Daredevils', 'Sunrisers', 'Daredevils', '6 wickets', 'Raipur', 'May 20, 2016', 'http://stats.espncricinfo.com/indian-premier-league-2015/engine/match/981003.html']\n",
      "['Supergiants', 'Kings XI', 'Supergiants', '4 wickets', 'Visakhapatnam', 'May 21, 2016', 'http://stats.espncricinfo.com/indian-premier-league-2015/engine/match/981005.html']\n",
      "['Guj Lions', 'Mum Indians', 'Guj Lions', '6 wickets', 'Kanpur', 'May 21, 2016', 'http://stats.espncricinfo.com/indian-premier-league-2015/engine/match/981007.html']\n",
      "['KKR', 'Sunrisers', 'KKR', '22 runs', 'Kolkata', 'May 22, 2016', 'http://stats.espncricinfo.com/indian-premier-league-2015/engine/match/981009.html']\n",
      "['Daredevils', 'RCB', 'RCB', '6 wickets', 'Raipur', 'May 22, 2016', 'http://stats.espncricinfo.com/indian-premier-league-2015/engine/match/981011.html']\n",
      "['Guj Lions', 'RCB', 'RCB', '4 wickets', 'Bengaluru', 'May 24, 2016', 'http://stats.espncricinfo.com/indian-premier-league-2015/engine/match/981013.html']\n",
      "['Sunrisers', 'KKR', 'Sunrisers', '22 runs', 'Delhi', 'May 25, 2016', 'http://stats.espncricinfo.com/indian-premier-league-2015/engine/match/981015.html']\n",
      "['Guj Lions', 'Sunrisers', 'Sunrisers', '4 wickets', 'Delhi', 'May 27, 2016', 'http://stats.espncricinfo.com/indian-premier-league-2015/engine/match/981017.html']\n",
      "['RCB', 'Sunrisers', 'Sunrisers', '8 runs', 'Bengaluru', 'May 29, 2016', 'http://stats.espncricinfo.com/indian-premier-league-2015/engine/match/981019.html']\n"
     ]
    }
   ],
   "source": [
    "\n",
    "# grab the content \n",
    "url = \"http://stats.espncricinfo.com/indian-premier-league-2015/engine/records/team/match_results.html?id=11001;type=tournament\"\n",
    "headers = {'User-Agent': 'Mozilla/5.0 (compatible; Googlebot/2.1; +http://www.google.com/bot.html)'}\n",
    "proxies = [\"118.151.209.114\",\"124.124.1.178\"]\n",
    "res = requests.get(url, headers=headers, proxies=random.choice(proxies))\n",
    "html_string = res.content\n",
    "\n",
    "#parse the content \n",
    "soup = BeautifulSoup(html_string,'html.parser')\n",
    "table_div = soup.find_all('div',{\"class\":\"div630Pad\"})\n",
    "#print (table_div)\n",
    "content_tables = table_div[0].find_all('table')\n",
    "#print (content_tables)\n",
    "match_summary_table = content_tables[0]\n",
    "table_rows = match_summary_table.find_all('tr')\n",
    "headers = [each_header.text for each_header in match_summary_table.find_all('th')]\n",
    "print (headers) \n",
    "table_body_content = match_summary_table.tbody.findAll('tr')\n",
    "for each_row in table_body_content:\n",
    "    tds = each_row.find_all('td')\n",
    "    row_data = [ td.text for td in tds ]\n",
    "    tds = each_row.find_all('td')\n",
    "    row_data = [td.text for td in tds[0:-1]]\n",
    "    if tds[-1].a:\n",
    "        row_data.append('http://stats.espncricinfo.com' + tds[-1].a['href'])\n",
    "    else:\n",
    "        row_data.append('NA')\n",
    "    print (row_data)"
   ]
  },
  {
   "cell_type": "code",
   "execution_count": 18,
   "metadata": {
    "collapsed": false,
    "deletable": true,
    "editable": true
   },
   "outputs": [
    {
     "name": "stdout",
     "output_type": "stream",
     "text": [
      "['Mum Indians', 'Supergiants', 'Supergiants', '9 wickets', 'Mumbai', 'Apr 9, 2016', 'http://stats.espncricinfo.com/indian-premier-league-2015/engine/match/980901.html']\n",
      "['KKR', 'Daredevils', 'KKR', '9 wickets', 'Kolkata', 'Apr 10, 2016', 'http://stats.espncricinfo.com/indian-premier-league-2015/engine/match/980903.html']\n",
      "['Kings XI', 'Guj Lions', 'Guj Lions', '5 wickets', 'Mohali', 'Apr 11, 2016', 'http://stats.espncricinfo.com/indian-premier-league-2015/engine/match/980905.html']\n",
      "['RCB', 'Sunrisers', 'RCB', '45 runs', 'Bengaluru', 'Apr 12, 2016', 'http://stats.espncricinfo.com/indian-premier-league-2015/engine/match/980907.html']\n",
      "['KKR', 'Mum Indians', 'Mum Indians', '6 wickets', 'Kolkata', 'Apr 13, 2016', 'http://stats.espncricinfo.com/indian-premier-league-2015/engine/match/980909.html']\n",
      "['Guj Lions', 'Supergiants', 'Guj Lions', '7 wickets', 'Rajkot', 'Apr 14, 2016', 'http://stats.espncricinfo.com/indian-premier-league-2015/engine/match/980911.html']\n"
     ]
    }
   ],
   "source": [
    "for count, each_row in enumerate(table_body_content):\n",
    "    tds = each_row.findAll('td')\n",
    "    row_data = [ td.text for td in tds ]\n",
    "    tds = each_row.findAll('td')\n",
    "    row_data = [td.text for td in tds[0:-1]]\n",
    "    if tds[-1].a:\n",
    "        row_data.append('http://stats.espncricinfo.com' + tds[-1].a['href'])\n",
    "    else:\n",
    "        row_data.append('NA')\n",
    "    print (row_data)\n",
    "    if count == 5:\n",
    "        break"
   ]
  },
  {
   "cell_type": "code",
   "execution_count": null,
   "metadata": {
    "collapsed": true,
    "deletable": true,
    "editable": true
   },
   "outputs": [],
   "source": []
  },
  {
   "cell_type": "code",
   "execution_count": null,
   "metadata": {
    "collapsed": true
   },
   "outputs": [],
   "source": []
  }
 ],
 "metadata": {
  "kernelspec": {
   "display_name": "Python 3",
   "language": "python",
   "name": "python3"
  },
  "language_info": {
   "codemirror_mode": {
    "name": "ipython",
    "version": 3
   },
   "file_extension": ".py",
   "mimetype": "text/x-python",
   "name": "python",
   "nbconvert_exporter": "python",
   "pygments_lexer": "ipython3",
   "version": "3.6.0"
  }
 },
 "nbformat": 4,
 "nbformat_minor": 2
}
